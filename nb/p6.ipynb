{
 "cells": [
  {
   "cell_type": "code",
   "execution_count": 1,
   "id": "1f64853b-a8dc-4fb4-9917-29649e1a4d5c",
   "metadata": {},
   "outputs": [
    {
     "name": "stdout",
     "output_type": "stream",
     "text": [
      "Datacenter: datacenter1\n",
      "=======================\n",
      "Status=Up/Down\n",
      "|/ State=Normal/Leaving/Joining/Moving\n",
      "--  Address      Load        Tokens  Owns (effective)  Host ID                               Rack \n",
      "UN  192.168.0.4  105.96 KiB  16      100.0%            22870169-a5d7-46ff-a0db-a337cdcd01d3  rack1\n",
      "UN  192.168.0.2  155.48 KiB  16      100.0%            249d8fc0-6ccb-4629-89a9-988d7a90f625  rack1\n",
      "\n"
     ]
    }
   ],
   "source": [
    "!nodetool status"
   ]
  },
  {
   "cell_type": "code",
   "execution_count": 2,
   "id": "1fed97e7-961f-4f1d-857e-fab5be6f2c47",
   "metadata": {},
   "outputs": [],
   "source": [
    "from cassandra.cluster import Cluster\n",
    "cluster = Cluster(['p6-db-1', 'p6-db-2', 'p6-db-3'])\n",
    "cass = cluster.connect()"
   ]
  },
  {
   "cell_type": "code",
   "execution_count": 5,
   "id": "bf4b5280-5ced-407b-8f43-841245860290",
   "metadata": {},
   "outputs": [
    {
     "ename": "OperationTimedOut",
     "evalue": "errors={'Connection defunct by heartbeat': 'Client request timeout. See Session.execute[_async](timeout)'}, last_host=192.168.0.2:9042",
     "output_type": "error",
     "traceback": [
      "\u001b[0;31m---------------------------------------------------------------------------\u001b[0m",
      "\u001b[0;31mOperationTimedOut\u001b[0m                         Traceback (most recent call last)",
      "Cell \u001b[0;32mIn[5], line 8\u001b[0m\n\u001b[1;32m      2\u001b[0m cass\u001b[38;5;241m.\u001b[39mexecute(\u001b[38;5;124m\"\"\"\u001b[39m\u001b[38;5;124mcreate keyspace weather with replication = \u001b[39m\u001b[38;5;124m{\u001b[39m\n\u001b[1;32m      3\u001b[0m \u001b[38;5;124m    \u001b[39m\u001b[38;5;124m'\u001b[39m\u001b[38;5;124mclass\u001b[39m\u001b[38;5;124m'\u001b[39m\u001b[38;5;124m : \u001b[39m\u001b[38;5;124m'\u001b[39m\u001b[38;5;124mSimpleStrategy\u001b[39m\u001b[38;5;124m'\u001b[39m\u001b[38;5;124m,\u001b[39m\n\u001b[1;32m      4\u001b[0m \u001b[38;5;124m    \u001b[39m\u001b[38;5;124m'\u001b[39m\u001b[38;5;124mreplication_factor\u001b[39m\u001b[38;5;124m'\u001b[39m\u001b[38;5;124m : 3\u001b[39m\n\u001b[1;32m      5\u001b[0m \u001b[38;5;124m    };\u001b[39m\n\u001b[1;32m      6\u001b[0m \u001b[38;5;124m\"\"\"\u001b[39m)\n\u001b[1;32m      7\u001b[0m cass\u001b[38;5;241m.\u001b[39mexecute(\u001b[38;5;124m\"\u001b[39m\u001b[38;5;124muse weather\u001b[39m\u001b[38;5;124m\"\u001b[39m)\n\u001b[0;32m----> 8\u001b[0m \u001b[43mcass\u001b[49m\u001b[38;5;241;43m.\u001b[39;49m\u001b[43mexecute\u001b[49m\u001b[43m(\u001b[49m\u001b[38;5;124;43m\"\"\"\u001b[39;49m\n\u001b[1;32m      9\u001b[0m \u001b[38;5;124;43m    create type station_record(\u001b[39;49m\n\u001b[1;32m     10\u001b[0m \u001b[38;5;124;43m        tmin INT,\u001b[39;49m\n\u001b[1;32m     11\u001b[0m \u001b[38;5;124;43m        tmax INT\u001b[39;49m\n\u001b[1;32m     12\u001b[0m \u001b[38;5;124;43m    )\u001b[39;49m\n\u001b[1;32m     13\u001b[0m \u001b[38;5;124;43m\"\"\"\u001b[39;49m\u001b[43m)\u001b[49m\n\u001b[1;32m     14\u001b[0m cass\u001b[38;5;241m.\u001b[39mexecute(\u001b[38;5;124m\"\"\"\u001b[39m\n\u001b[1;32m     15\u001b[0m \u001b[38;5;124m    create table stations(\u001b[39m\n\u001b[1;32m     16\u001b[0m \u001b[38;5;124m        id TEXT,\u001b[39m\n\u001b[0;32m   (...)\u001b[0m\n\u001b[1;32m     21\u001b[0m \u001b[38;5;124m    ) WITH CLUSTERING ORDER BY (date ASC)\u001b[39m\n\u001b[1;32m     22\u001b[0m \u001b[38;5;124m\"\"\"\u001b[39m)\n",
      "File \u001b[0;32m/usr/local/lib/python3.10/dist-packages/cassandra/cluster.py:2637\u001b[0m, in \u001b[0;36mcassandra.cluster.Session.execute\u001b[0;34m()\u001b[0m\n",
      "File \u001b[0;32m/usr/local/lib/python3.10/dist-packages/cassandra/cluster.py:4920\u001b[0m, in \u001b[0;36mcassandra.cluster.ResponseFuture.result\u001b[0;34m()\u001b[0m\n",
      "\u001b[0;31mOperationTimedOut\u001b[0m: errors={'Connection defunct by heartbeat': 'Client request timeout. See Session.execute[_async](timeout)'}, last_host=192.168.0.2:9042"
     ]
    }
   ],
   "source": [
    "cass.execute(\"drop keyspace if exists weather\")\n",
    "cass.execute(\"\"\"create keyspace weather with replication = {\n",
    "    'class' : 'SimpleStrategy',\n",
    "    'replication_factor' : 3\n",
    "    };\n",
    "\"\"\")\n",
    "cass.execute(\"use weather\")\n",
    "cass.execute(\"\"\"\n",
    "    create type station_record(\n",
    "        tmin INT,\n",
    "        tmax INT\n",
    "    )\n",
    "\"\"\")\n",
    "cass.execute(\"\"\"\n",
    "    create table stations(\n",
    "        id TEXT,\n",
    "        name TEXT STATIC,\n",
    "        date DATE,\n",
    "        record WEATHER.STATION_RECORD,\n",
    "        PRIMARY KEY ((id), date)\n",
    "    ) WITH CLUSTERING ORDER BY (date ASC)\n",
    "\"\"\")\n"
   ]
  },
  {
   "cell_type": "code",
   "execution_count": null,
   "id": "19c06cdb-e25f-4783-b8ee-060bf82d170d",
   "metadata": {},
   "outputs": [],
   "source": [
    "#q1\n",
    "cass.execute(\"describe table weather.stations\").one().create_statement"
   ]
  },
  {
   "cell_type": "code",
   "execution_count": null,
   "id": "77b38dee-19fb-47e5-a3f0-735c02ee2c70",
   "metadata": {},
   "outputs": [],
   "source": [
    "from pyspark.sql import SparkSession\n",
    "spark = (SparkSession.builder\n",
    "         .appName(\"p6\")\n",
    "         .config('spark.jars.packages', 'com.datastax.spark:spark-cassandra-connector_2.12:3.4.0')\n",
    "         .config(\"spark.sql.extensions\", \"com.datastax.spark.connector.CassandraSparkExtensions\")\n",
    "         .getOrCreate())"
   ]
  },
  {
   "cell_type": "code",
   "execution_count": null,
   "id": "69b531f4-8cc4-4065-b9ae-d47591a93994",
   "metadata": {},
   "outputs": [],
   "source": [
    "from pyspark.sql.functions import col, expr\n",
    "import pandas as pd\n",
    "df = spark.read.text(\"ghcnd-stations.txt\")\n",
    "ID_df = df.withColumn(\"ID\", expr(\"substring(value, 0, 11)\"))\n",
    "STATE_df = df.withColumn(\"STATE\", expr(\"substring(value, 39, 2)\"))\n",
    "NAME_df = df.withColumn(\"NAME\", expr(\"substring(value, 42, 30)\"))\n",
    "df2 = ID_df.join(STATE_df, ['value'], how='inner')\n",
    "df2 = df2.join(NAME_df, ['value'], how='inner')\n",
    "filtered_df = df2.where(col(\"STATE\") == \"WI\")\n",
    "\n",
    "df_insert = cass.prepare(\"\"\"\n",
    "    INSERT INTO stations (id, name)\n",
    "    VALUES (?, ?)\n",
    "\"\"\")\n",
    "\n",
    "filtered_df = filtered_df.toPandas()\n",
    "for index, row in filtered_df.iterrows():\n",
    "    cass.execute(df_insert, (filtered_df[\"ID\"][index], filtered_df[\"NAME\"][index]))"
   ]
  },
  {
   "cell_type": "code",
   "execution_count": null,
   "id": "b8114a52-01a0-409e-abd1-040090aefa98",
   "metadata": {},
   "outputs": [],
   "source": [
    "#q2\n",
    "df = pd.DataFrame(cass.execute(\"\"\"\n",
    "    SELECT name from weather.stations\n",
    "    WHERE id='USW00014837'\n",
    "\"\"\"))\n",
    "\n",
    "df[\"name\"][0]"
   ]
  },
  {
   "cell_type": "code",
   "execution_count": null,
   "id": "97a2f623-d931-443a-b371-5ea7628b7ff2",
   "metadata": {},
   "outputs": [],
   "source": [
    "#q3\n",
    "df = pd.DataFrame(cass.execute(\"\"\"\n",
    "    SELECT token(id) from weather.stations\n",
    "    WHERE id='USC00470273'\n",
    "\"\"\"))\n",
    "\n",
    "df[\"system_token_id\"][0]"
   ]
  },
  {
   "cell_type": "code",
   "execution_count": null,
   "id": "c09f1d71-fb39-4555-bfeb-8be650165f23",
   "metadata": {},
   "outputs": [],
   "source": [
    "import subprocess\n",
    "import re"
   ]
  },
  {
   "cell_type": "code",
   "execution_count": null,
   "id": "0d1bcd0a-0718-4297-a9c8-d3ec86d61428",
   "metadata": {},
   "outputs": [],
   "source": [
    "#q4\n",
    "sp = subprocess.check_output(\"nodetool ring weather\", stderr=subprocess.STDOUT, shell=True)\n",
    "numbers = re.findall(r'-?\\b\\d{8,}\\b', sp.decode('utf-8'))\n",
    "sorted_numbers = sorted(numbers)\n",
    "closest = 0\n",
    "min = float('inf')\n",
    "for i in range(len(sorted_numbers)):\n",
    "    if (int(sorted_numbers[i]) < min):\n",
    "        min = int(sorted_numbers[i])\n",
    "    if (int(df[\"system_token_id\"][0]) < int(sorted_numbers[i])):\n",
    "        closest = int(sorted_numbers[i])\n",
    "        break\n",
    "if (closest == 0):\n",
    "    closest = min\n",
    "closest"
   ]
  },
  {
   "cell_type": "code",
   "execution_count": null,
   "id": "c59c82ea-3e7e-4492-bd82-9c3912e439e7",
   "metadata": {},
   "outputs": [],
   "source": []
  },
  {
   "cell_type": "code",
   "execution_count": null,
   "id": "cb700706-6999-4d1e-9235-a44257b2149b",
   "metadata": {},
   "outputs": [],
   "source": []
  }
 ],
 "metadata": {
  "kernelspec": {
   "display_name": "Python 3 (ipykernel)",
   "language": "python",
   "name": "python3"
  },
  "language_info": {
   "codemirror_mode": {
    "name": "ipython",
    "version": 3
   },
   "file_extension": ".py",
   "mimetype": "text/x-python",
   "name": "python",
   "nbconvert_exporter": "python",
   "pygments_lexer": "ipython3",
   "version": "3.10.12"
  }
 },
 "nbformat": 4,
 "nbformat_minor": 5
}
